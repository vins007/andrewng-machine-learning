{
 "cells": [
  {
   "cell_type": "code",
   "execution_count": 3,
   "metadata": {},
   "outputs": [],
   "source": [
    "import numpy as np\n",
    "from scipy.io import loadmat\n",
    "from matplotlib import pyplot as plt\n",
    "import os\n",
    "import scipy.optimize as opt"
   ]
  },
  {
   "cell_type": "code",
   "execution_count": 4,
   "metadata": {},
   "outputs": [
    {
     "data": {
      "text/plain": [
       "['.ipynb_checkpoints',\n",
       " 'Anamoly detection.ipynb',\n",
       " 'ex8data1.mat',\n",
       " 'ex8data2.mat',\n",
       " 'ex8_movieParams.mat',\n",
       " 'ex8_movies.mat',\n",
       " 'Recommender system.ipynb']"
      ]
     },
     "execution_count": 4,
     "metadata": {},
     "output_type": "execute_result"
    }
   ],
   "source": [
    "os.listdir()"
   ]
  },
  {
   "cell_type": "code",
   "execution_count": 5,
   "metadata": {},
   "outputs": [],
   "source": [
    "data1 = loadmat('ex8_movieParams.mat')"
   ]
  },
  {
   "cell_type": "code",
   "execution_count": 6,
   "metadata": {},
   "outputs": [
    {
     "data": {
      "text/plain": [
       "dict_keys(['__header__', '__version__', '__globals__', 'X', 'Theta', 'num_users', 'num_movies', 'num_features'])"
      ]
     },
     "execution_count": 6,
     "metadata": {},
     "output_type": "execute_result"
    }
   ],
   "source": [
    "data1.keys()"
   ]
  },
  {
   "cell_type": "code",
   "execution_count": 7,
   "metadata": {},
   "outputs": [],
   "source": [
    "X = data1['X']\n",
    "theta = data1['Theta']\n",
    "num_users = data1['num_users']\n",
    "num_movies = data1['num_movies']\n",
    "num_features = data1['num_features']"
   ]
  },
  {
   "cell_type": "code",
   "execution_count": 8,
   "metadata": {},
   "outputs": [
    {
     "name": "stdout",
     "output_type": "stream",
     "text": [
      "Shape of X:  (1682, 10)\n",
      "Shape of theta:  (943, 10)\n",
      "Num of movies:  [[1682]]\n",
      "Num of users:  [[943]]\n",
      "Num of features:  [[10]]\n"
     ]
    }
   ],
   "source": [
    "print(\"Shape of X: \",X.shape)\n",
    "print(\"Shape of theta: \",theta.shape)\n",
    "print(\"Num of movies: \",num_movies)\n",
    "print(\"Num of users: \",num_users)\n",
    "print(\"Num of features: \",num_features)"
   ]
  },
  {
   "cell_type": "code",
   "execution_count": 9,
   "metadata": {},
   "outputs": [],
   "source": [
    "data2 = loadmat('ex8_movies.mat')"
   ]
  },
  {
   "cell_type": "code",
   "execution_count": 10,
   "metadata": {},
   "outputs": [
    {
     "data": {
      "text/plain": [
       "dict_keys(['__header__', '__version__', '__globals__', 'Y', 'R'])"
      ]
     },
     "execution_count": 10,
     "metadata": {},
     "output_type": "execute_result"
    }
   ],
   "source": [
    "data2.keys()"
   ]
  },
  {
   "cell_type": "code",
   "execution_count": 11,
   "metadata": {},
   "outputs": [],
   "source": [
    "y = data2['Y']\n",
    "R = data2['R']"
   ]
  },
  {
   "cell_type": "code",
   "execution_count": 12,
   "metadata": {},
   "outputs": [
    {
     "name": "stdout",
     "output_type": "stream",
     "text": [
      "(1682, 943)\n",
      "(1682, 943)\n"
     ]
    }
   ],
   "source": [
    "print(y.shape)\n",
    "print(R.shape)\n"
   ]
  },
  {
   "cell_type": "code",
   "execution_count": 21,
   "metadata": {},
   "outputs": [],
   "source": [
    "def  costfunction(X,y,theta,R,lambd):\n",
    "    pred = np.dot(X,theta.T)\n",
    "    err = (pred - y)\n",
    "    j = (1/2)*np.sum((err**2)*R) + (lambd/2)*np.sum(theta**2)\n",
    "    return j"
   ]
  },
  {
   "cell_type": "code",
   "execution_count": 22,
   "metadata": {},
   "outputs": [
    {
     "name": "stdout",
     "output_type": "stream",
     "text": [
      "J test:  22.224603725685675\n"
     ]
    }
   ],
   "source": [
    "num_users = 4\n",
    "num_movies = 5\n",
    "num_features = 3\n",
    "X_test = X[:num_movies,:num_features]\n",
    "theta_test = theta[:num_users,:num_features]\n",
    "y_test = y[:num_movies,:num_users]\n",
    "R_test = R[:num_movies,:num_users]\n",
    "j = costfunction(X_test,y_test,theta_test,R_test,0)\n",
    "print(\"J test: \",j)"
   ]
  },
  {
   "cell_type": "code",
   "execution_count": null,
   "metadata": {},
   "outputs": [],
   "source": []
  },
  {
   "cell_type": "code",
   "execution_count": 36,
   "metadata": {},
   "outputs": [
    {
     "name": "stdout",
     "output_type": "stream",
     "text": [
      "[[0 0 0 0 0 0 0 0 0 0]\n",
      " [0 0 0 0 0 0 0 0 0 0]\n",
      " [0 0 0 0 0 0 0 0 0 0]\n",
      " [0 0 0 0 0 0 0 0 0 0]\n",
      " [0 0 0 0 0 0 0 0 0 0]\n",
      " [0 0 0 0 0 0 0 0 0 0]\n",
      " [0 0 0 0 0 0 0 0 0 0]\n",
      " [0 0 0 0 0 0 0 0 0 0]\n",
      " [0 0 0 0 0 0 0 0 0 0]\n",
      " [0 0 0 0 0 0 0 0 0 0]]\n"
     ]
    }
   ],
   "source": [
    "def gradient(X,theta,y,R,lambd):\n",
    "    \n",
    "    nm ,nu = y.shape\n",
    "    nf = X.shape[1]\n",
    "    theta = theta.reshape((nu,nf))\n",
    "    pred = np.dot(X,theta.T)\n",
    "\n",
    "    theta[0] = np.dot(((pred-y)*R).T,X)[0]\n",
    "    \n",
    "    theta[1:] = np.dot(((pred-y)*R).T,X)[1:] + lambd*theta[1:]\n",
    "    return theta\n",
    "initial_theta = np.linspace()\n",
    "print(initial_theta[:10])\n",
    "grd = gradient(X,initial_theta,y,R,0)"
   ]
  },
  {
   "cell_type": "code",
   "execution_count": 67,
   "metadata": {},
   "outputs": [],
   "source": [
    "def randominit(m,n):\n",
    "    theta = np.random.uniform(low=-0.12,high=0.12,size=(m,n))\n",
    "    return theta"
   ]
  },
  {
   "cell_type": "code",
   "execution_count": null,
   "metadata": {},
   "outputs": [],
   "source": [
    "def coficost(X,theta,y,R,lambd):\n",
    "    \n",
    "    nm,nu = y.shape\n",
    "    nf = theta.shape[1]\n",
    "    \n",
    "    X = X.reshape((nu,nf))\n",
    "    \n",
    "    pred = np.dot(X,theta.T)\n",
    "    \n",
    "    j = (1/2)*np.sum(((pred-y)**2)*R) + lambd/2*np.sum(X**2)\n",
    "    \n",
    "    return j\n",
    "\n",
    "    \n",
    "    "
   ]
  },
  {
   "cell_type": "code",
   "execution_count": 44,
   "metadata": {},
   "outputs": [],
   "source": [
    "def cofigradient(param,y,R,lambd):\n",
    "    \n",
    "    nm,nu = y.shape\n",
    "    nf = theta.shape[1]\n",
    "    \n",
    "    X = X.reshape((nu,nf))\n",
    "    \n",
    "    pred = np.dot(X,theta.T)\n",
    "\n",
    "    X[0] = np.dot(((pred-y)*R),theta)[0]\n",
    "    \n",
    "    X[1:] = np.dot((pred-y)*R,theta)[1:] + lambd*X[1:]\n",
    "   \n",
    "    return X\n",
    "    \n",
    "    "
   ]
  },
  {
   "cell_type": "code",
   "execution_count": 96,
   "metadata": {},
   "outputs": [],
   "source": [
    "def colaborative_cost(param,y,R,lambd):\n",
    "    \n",
    "    nm,nu = y.shape\n",
    "    nf=10\n",
    "    X = param[:nm*nf].reshape((nm,nf))\n",
    "\n",
    "    \n",
    "    theta = param[nm*nf:].reshape((nu,nf))\n",
    "  \n",
    "    nm,nu = y.shape\n",
    "    \n",
    "    pred = np.dot(X,theta.T)\n",
    "    \n",
    "    err = pred-y\n",
    "    \n",
    "    j = (.5 * np.sum(((np.dot(theta,X.T).T - y) * R)**2) + ((lambd / 2) * np.sum(theta**2)) +((lambd / 2) * np.sum(X**2)))\n",
    "    #j = (1/2)*np.sum((err**2)*R) + lambd/2*np.sum(X**2) + lambd/2*np.sum(theta**2)\n",
    "    \n",
    "    #X = np.dot((pred-y)*R,theta) + lambd*X\n",
    "    X_grad = np.zeros_like(X)\n",
    "    for i in range(nm):\n",
    "        idx = np.where(R[i,:]==1)[0] # users who have rated movie i\n",
    "        temp_theta = theta[idx,:] # parameter vector for those users \n",
    "        temp_Y = y[idx, :] # ratings given to movie i\n",
    "        X_grad[i,:] = np.sum(np.dot(np.dot(temp_theta, X[i, :]) - temp_Y.T,temp_theta) + lambd*X[i,:], axis=0)\n",
    "    \n",
    "    Theta_grad = np.zeros_like(theta)\n",
    "    for j in range(nu):\n",
    "        idx = np.where(R[:,j]==1)[0]\n",
    "        temp_X = X[idx,:]\n",
    "        temp_Y = y[idx,j]\n",
    "        Theta_grad[j,:] = np.sum(np.dot(np.dot(theta[j], temp_X.T) -temp_Y, temp_X) + lambd*theta[j], axis=0)\n",
    "    \n",
    "    #theta = np.dot(((pred-y)*R).T,X) + lambd*theta\n",
    "    \n",
    "    param = np.append(X_grad.ravel(),Theta_grad.ravel())\n",
    "    \n",
    "    return j,param\n",
    "\n",
    "\n",
    "    "
   ]
  },
  {
   "cell_type": "code",
   "execution_count": 105,
   "metadata": {},
   "outputs": [
    {
     "name": "stdout",
     "output_type": "stream",
     "text": [
      "(26250,)\n"
     ]
    }
   ],
   "source": [
    "nm , nu = y.shape\n",
    "nf = 10\n",
    "lambd=10\n",
    "#X = randominit(nm,nf)\n",
    "#theta = randominit(nu,nf)\n",
    "\n",
    "print(param.shape)\n",
    "X = np.random.normal(size=(nm,nf))\n",
    "theta = np.random.normal(size=(nu, nf))\n",
    "param = np.append(X.ravel(),theta.ravel())"
   ]
  },
  {
   "cell_type": "code",
   "execution_count": 106,
   "metadata": {},
   "outputs": [],
   "source": [
    "param_f ,nf,rc = opt.fmin_tnc(func=colaborative_cost,x0=param,args=(y,R,lambd))"
   ]
  },
  {
   "cell_type": "code",
   "execution_count": 107,
   "metadata": {},
   "outputs": [],
   "source": [
    "X = param_f[:nm*10].reshape((nm,10))\n",
    "theta = param_f[nm*10:].reshape((nu,10))"
   ]
  },
  {
   "cell_type": "code",
   "execution_count": 108,
   "metadata": {},
   "outputs": [],
   "source": [
    "predd = np.dot(X,theta.T)"
   ]
  },
  {
   "cell_type": "code",
   "execution_count": 109,
   "metadata": {},
   "outputs": [
    {
     "data": {
      "text/plain": [
       "array([[ 1.85956671,  2.55943224, -0.18868469, ..., -2.75528884,\n",
       "        -4.23265657,  3.52285647],\n",
       "       [-0.02784054, -0.66593173, -0.58768951, ..., -1.36126634,\n",
       "         2.19354252, -4.10130248],\n",
       "       [-0.23527686,  8.84613919,  2.90149632, ..., -1.82969216,\n",
       "         0.6259907 , -3.80340551],\n",
       "       ...,\n",
       "       [ 0.35013874,  0.8180158 ,  4.19141377, ..., -2.93001753,\n",
       "        -4.92920152, -1.24102463],\n",
       "       [ 3.74481626, -1.16873027, -1.82124318, ...,  8.32087694,\n",
       "         2.21522502, -0.41875914],\n",
       "       [ 1.29727744,  5.7097198 ,  2.85604056, ...,  0.20991207,\n",
       "         1.30565186, -4.82947211]])"
      ]
     },
     "execution_count": 109,
     "metadata": {},
     "output_type": "execute_result"
    }
   ],
   "source": [
    "predd[:10]"
   ]
  },
  {
   "cell_type": "code",
   "execution_count": null,
   "metadata": {},
   "outputs": [],
   "source": []
  }
 ],
 "metadata": {
  "kernelspec": {
   "display_name": "Python 3",
   "language": "python",
   "name": "python3"
  },
  "language_info": {
   "codemirror_mode": {
    "name": "ipython",
    "version": 3
   },
   "file_extension": ".py",
   "mimetype": "text/x-python",
   "name": "python",
   "nbconvert_exporter": "python",
   "pygments_lexer": "ipython3",
   "version": "3.7.6"
  }
 },
 "nbformat": 4,
 "nbformat_minor": 4
}
