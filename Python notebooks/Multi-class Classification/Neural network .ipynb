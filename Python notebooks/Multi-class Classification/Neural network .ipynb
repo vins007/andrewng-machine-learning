{
 "cells": [
  {
   "cell_type": "code",
   "execution_count": 1,
   "metadata": {},
   "outputs": [],
   "source": [
    "import os\n",
    "from scipy.io import loadmat\n",
    "import  sklearn\n",
    "import matplotlib.pyplot as plt\n",
    "import numpy as np\n"
   ]
  },
  {
   "cell_type": "code",
   "execution_count": 2,
   "metadata": {},
   "outputs": [
    {
     "data": {
      "text/plain": [
       "['.ipynb_checkpoints',\n",
       " 'Digit Recognition.ipynb',\n",
       " 'ex3data1.mat',\n",
       " 'ex3weights.mat',\n",
       " 'Neural network .ipynb']"
      ]
     },
     "execution_count": 2,
     "metadata": {},
     "output_type": "execute_result"
    }
   ],
   "source": [
    "os.listdir()"
   ]
  },
  {
   "cell_type": "code",
   "execution_count": 3,
   "metadata": {},
   "outputs": [],
   "source": [
    "data = loadmat('ex3data1.mat')\n",
    "theta = loadmat('ex3weights.mat')"
   ]
  },
  {
   "cell_type": "code",
   "execution_count": null,
   "metadata": {},
   "outputs": [],
   "source": [
    "data"
   ]
  },
  {
   "cell_type": "code",
   "execution_count": 4,
   "metadata": {},
   "outputs": [
    {
     "name": "stdout",
     "output_type": "stream",
     "text": [
      "dict_keys(['__header__', '__version__', '__globals__', 'X', 'y'])\n"
     ]
    }
   ],
   "source": [
    "print(data.keys())"
   ]
  },
  {
   "cell_type": "code",
   "execution_count": 5,
   "metadata": {},
   "outputs": [],
   "source": [
    "X=data['X']"
   ]
  },
  {
   "cell_type": "code",
   "execution_count": 6,
   "metadata": {},
   "outputs": [
    {
     "name": "stdout",
     "output_type": "stream",
     "text": [
      "(5000, 400)\n"
     ]
    }
   ],
   "source": [
    "print(X.shape)"
   ]
  },
  {
   "cell_type": "code",
   "execution_count": 8,
   "metadata": {},
   "outputs": [],
   "source": [
    "y = data['y']"
   ]
  },
  {
   "cell_type": "code",
   "execution_count": 9,
   "metadata": {},
   "outputs": [
    {
     "data": {
      "text/plain": [
       "(5000, 1)"
      ]
     },
     "execution_count": 9,
     "metadata": {},
     "output_type": "execute_result"
    }
   ],
   "source": [
    "y.shape"
   ]
  },
  {
   "cell_type": "code",
   "execution_count": 10,
   "metadata": {},
   "outputs": [],
   "source": [
    "X = np.c_[np.ones((5000,1)),X]"
   ]
  },
  {
   "cell_type": "code",
   "execution_count": 11,
   "metadata": {},
   "outputs": [
    {
     "data": {
      "text/plain": [
       "(5000, 401)"
      ]
     },
     "execution_count": 11,
     "metadata": {},
     "output_type": "execute_result"
    }
   ],
   "source": [
    "X.shape"
   ]
  },
  {
   "cell_type": "code",
   "execution_count": 12,
   "metadata": {},
   "outputs": [
    {
     "data": {
      "text/plain": [
       "dict_keys(['__header__', '__version__', '__globals__', 'Theta1', 'Theta2'])"
      ]
     },
     "execution_count": 12,
     "metadata": {},
     "output_type": "execute_result"
    }
   ],
   "source": [
    "theta.keys()"
   ]
  },
  {
   "cell_type": "code",
   "execution_count": 8,
   "metadata": {},
   "outputs": [],
   "source": [
    "theta1= theta['Theta1']\n",
    "theta2 = theta['Theta2']"
   ]
  },
  {
   "cell_type": "code",
   "execution_count": 9,
   "metadata": {},
   "outputs": [
    {
     "data": {
      "text/plain": [
       "array([-2.25623899e-02, -1.05624163e-08,  2.19414684e-09, -6.92223359e-06,\n",
       "        8.88278871e-05, -2.42735628e-04, -2.70957302e-03,  1.45757191e-03,\n",
       "        2.46026364e-03,  7.13629532e-04, -5.70078885e-04, -2.31464986e-04,\n",
       "        5.12911249e-04,  1.13402876e-03,  3.62593523e-04,  4.12173828e-04,\n",
       "        1.32134340e-04,  1.37730345e-04,  1.07593046e-05, -2.12161426e-06,\n",
       "        1.14186154e-09,  2.20317337e-08, -4.95776468e-07,  7.96752261e-05,\n",
       "       -7.40617279e-04, -4.30419304e-04,  2.15555175e-03,  9.27076318e-03,\n",
       "        1.50701482e-02,  7.36894310e-03,  7.66312246e-03,  6.38584723e-04,\n",
       "       -8.66664392e-03, -1.36946721e-02, -1.80244907e-03, -1.98550526e-03,\n",
       "       -1.33854878e-03,  4.11799777e-05,  3.61518629e-03,  3.27367511e-04,\n",
       "       -1.02609244e-04, -2.51764893e-07,  1.72926132e-05,  4.30306233e-04,\n",
       "       -4.31866730e-03, -2.44277714e-02, -4.29677743e-02, -2.34169922e-02,\n",
       "        4.87858916e-02,  1.25561218e-01,  7.77852907e-02,  3.98915622e-02,\n",
       "        3.34552027e-02, -2.16309907e-02, -9.33166492e-02, -9.14928745e-02,\n",
       "       -2.39920603e-03, -2.56924069e-02, -7.66599683e-02, -3.37715197e-03,\n",
       "        4.87850883e-04,  1.19206883e-06, -5.40308501e-05, -1.43052915e-03,\n",
       "        1.21973244e-02,  4.02182903e-02,  6.10732048e-02,  2.00422201e-02,\n",
       "        9.09768783e-02,  1.63516289e-01,  1.06682406e-01,  5.60298475e-02,\n",
       "        6.73540074e-02, -1.07951787e-02, -1.08500786e-01, -2.07812143e-01,\n",
       "       -4.44596681e-02, -5.97229484e-02, -1.55555159e-01, -2.34154360e-03,\n",
       "        8.82200640e-03,  1.44040652e-05, -1.09919377e-03,  7.40454724e-03,\n",
       "        5.83276188e-02,  1.17347930e-01,  1.94631924e-01,  2.19166556e-02,\n",
       "       -2.84989924e-02,  6.51107210e-02, -2.94849153e-02, -2.47620009e-02,\n",
       "        8.14326765e-02, -9.87755887e-02, -1.47372384e-01, -2.56393887e-01,\n",
       "       -2.77748117e-01, -1.22671771e-01, -7.67785611e-02,  3.41129844e-02,\n",
       "        1.32293279e-02, -3.47058323e-04,  2.08763873e-03,  4.42836866e-02,\n",
       "        7.96795868e-02,  1.11051921e-01,  3.80867883e-02,  5.28896658e-02,\n",
       "       -1.08317190e-02, -7.14528617e-02, -2.14718640e-02,  2.37386797e-01,\n",
       "        2.67059795e-01,  7.11792146e-03, -3.38707263e-01, -4.77818530e-01,\n",
       "       -2.67035266e-01,  1.83038945e-02,  1.31243563e-01,  1.15090338e-01,\n",
       "        1.82850325e-02, -1.27438024e-03,  1.05589590e-02,  1.12714013e-01,\n",
       "        2.29327942e-01,  1.12871510e-01, -1.42369824e-02,  1.68132971e-02,\n",
       "        8.29585679e-02,  1.30851330e-01,  7.52655944e-02,  7.44281248e-02,\n",
       "        1.43783123e-01,  1.25253071e-01, -1.88420414e-01, -3.91250045e-01,\n",
       "       -1.22487064e-01, -9.35214967e-02,  1.83743824e-02,  1.48951796e-01,\n",
       "        2.64699680e-02, -1.30311966e-03,  8.69458967e-03,  1.60603240e-01,\n",
       "        3.38101867e-01,  6.86567608e-02,  1.33664890e-02,  3.84025957e-02,\n",
       "       -6.34215075e-03, -1.02847012e-01, -3.64733538e-02, -2.14325611e-01,\n",
       "       -1.88966670e-01, -8.21431017e-02, -4.15027959e-02, -2.93918266e-01,\n",
       "       -1.86544866e-01, -3.46932744e-01, -1.35822284e-01,  2.40763243e-01,\n",
       "        2.72324145e-02, -1.75524314e-03,  1.66268474e-02,  1.47498643e-01,\n",
       "        2.29483088e-01,  1.89701973e-02, -2.53708416e-03, -9.45783288e-03,\n",
       "       -8.85794085e-02, -2.69433757e-01, -4.74611531e-02, -2.83803698e-01,\n",
       "       -1.61424291e-01,  2.47200967e-01,  3.86604260e-01,  1.81937481e-02,\n",
       "       -1.37529638e-01, -3.84586100e-01, -1.30608304e-01,  2.84471018e-01,\n",
       "        5.58762637e-02, -3.14109026e-03,  3.50072700e-02,  6.17437426e-02,\n",
       "        3.66141601e-02, -1.89155628e-01, -3.77502386e-02,  8.32182214e-02,\n",
       "       -1.46407876e-01, -2.16985339e-01, -3.82496176e-01, -4.12582329e-01,\n",
       "       -3.06389178e-02,  5.62436712e-01,  4.21243338e-01,  1.36592936e-01,\n",
       "        6.18790460e-02, -5.10059233e-01, -2.16017681e-01,  1.44794285e-01,\n",
       "        6.20129600e-02, -3.62409669e-03,  4.12604467e-02, -3.67278720e-02,\n",
       "       -2.31163935e-02, -1.52927543e-01, -2.09430968e-01, -2.91824737e-02,\n",
       "       -3.16006355e-01, -3.81286687e-01, -5.27060570e-01,  1.52310644e-02,\n",
       "        3.42061527e-01,  6.07106462e-01,  2.35219763e-01,  2.06057767e-01,\n",
       "       -1.24999183e-01, -4.19932069e-01,  2.38791362e-02,  2.52493256e-01,\n",
       "        4.36178980e-02, -3.18626242e-03,  5.83593110e-02,  3.73644741e-02,\n",
       "       -2.19319049e-01, -2.62320404e-01, -5.28243593e-02, -1.30293398e-01,\n",
       "       -1.88603190e-01,  1.08362702e-01,  2.41716711e-01,  4.67197168e-01,\n",
       "        6.25679583e-01,  2.48544340e-01,  1.43559825e-01,  3.38557210e-01,\n",
       "       -1.24595358e-01, -2.97812119e-01,  5.21136976e-02,  2.14433312e-01,\n",
       "        2.14717653e-02, -5.00805053e-03,  6.24964817e-02,  1.23592968e-01,\n",
       "       -8.95584564e-02, -2.25033966e-01, -3.30127471e-02, -2.36365647e-01,\n",
       "       -1.14336653e-02,  3.15548637e-01,  3.78541049e-01,  2.65819764e-01,\n",
       "        4.03466559e-01,  9.26742438e-02,  3.56943723e-02, -1.77169776e-02,\n",
       "       -1.91766036e-01, -3.57634563e-01,  2.79952180e-02,  1.62422709e-01,\n",
       "        3.38066099e-02, -3.64447443e-03,  4.43559538e-02,  1.48409451e-01,\n",
       "       -6.42235443e-02, -2.91914183e-01, -3.00767916e-01, -2.46088191e-01,\n",
       "        7.73081505e-02,  1.31589355e-01,  2.39648736e-01,  2.10348744e-01,\n",
       "        2.30979281e-01,  1.79687910e-01, -1.38583844e-01, -1.05849142e-01,\n",
       "       -1.58257935e-01, -3.33257514e-01, -1.00246010e-01,  1.10823164e-01,\n",
       "        2.52259954e-02, -5.63636904e-04,  2.17049048e-02,  1.83333446e-01,\n",
       "        3.10335550e-02, -2.41405332e-01, -1.58078036e-01,  1.99436086e-02,\n",
       "        1.70525707e-01,  4.58813990e-01,  3.77541530e-01,  3.80759265e-01,\n",
       "        1.53053424e-01,  9.73530395e-02, -6.75400731e-02,  1.57845474e-02,\n",
       "       -5.63637956e-02, -1.89620394e-01, -2.62460887e-02,  4.58851563e-02,\n",
       "       -4.64033518e-03, -9.03614636e-04,  1.03357110e-02,  1.21217993e-01,\n",
       "       -1.29385804e-02, -3.73152267e-01, -2.66992097e-01, -2.64556890e-01,\n",
       "       -7.56988021e-02,  3.50276714e-01,  3.24086723e-01,  3.16579322e-01,\n",
       "        1.09599266e-01, -1.51872829e-01, -1.00528548e-01, -4.14197150e-02,\n",
       "       -4.32688256e-02, -3.78541176e-02,  3.03198045e-02,  8.08197887e-02,\n",
       "        8.11150172e-02, -4.21352142e-04,  4.72783410e-03,  2.59029840e-02,\n",
       "       -7.48241905e-02, -3.00123828e-01, -4.32477289e-01, -3.73565899e-01,\n",
       "       -2.68579581e-01, -9.24923917e-02, -4.66441156e-02, -3.97113579e-02,\n",
       "        3.55416982e-02,  9.91017504e-02,  8.44606133e-02,  2.43978871e-02,\n",
       "       -4.82566575e-02, -3.53746018e-02,  1.25642229e-02,  2.57934670e-02,\n",
       "        2.85404460e-02, -1.18795084e-04,  2.85753919e-03, -1.71136301e-02,\n",
       "       -5.19377848e-02, -1.64939666e-01, -2.81540975e-01, -3.87645520e-01,\n",
       "       -2.43820503e-01, -7.79675072e-02, -1.94157470e-02, -7.52357151e-02,\n",
       "       -6.78797865e-02,  1.17878253e-01,  1.86818491e-01,  2.66255543e-03,\n",
       "       -4.72591064e-02,  1.25127449e-02,  1.81366077e-02,  6.60110152e-03,\n",
       "       -2.67594994e-03,  6.05115031e-06,  5.00826153e-04, -5.58591290e-03,\n",
       "       -1.15669765e-02, -5.74332192e-02, -1.24535318e-01, -1.42196430e-01,\n",
       "       -1.23662297e-01, -4.24651526e-02,  1.17902010e-02,  2.49847037e-02,\n",
       "        5.10207470e-02,  7.56607700e-02,  4.07912332e-02,  1.43227832e-03,\n",
       "       -3.10579558e-02, -6.54690252e-03,  1.75700830e-04, -5.98120967e-04,\n",
       "       -7.60703164e-05, -6.87864536e-09, -5.17346946e-05,  4.39602704e-04,\n",
       "        3.15589654e-03, -2.18096807e-02, -2.66074400e-02, -1.38812621e-02,\n",
       "       -4.95655599e-03, -1.24702264e-02,  3.56743641e-04,  5.31336737e-04,\n",
       "        4.69863471e-03,  2.21610834e-03, -9.47081435e-03, -9.84579481e-04,\n",
       "        2.04756674e-03,  6.28060788e-04, -1.30529929e-05, -5.04175101e-06,\n",
       "        2.80464449e-09])"
      ]
     },
     "execution_count": 9,
     "metadata": {},
     "output_type": "execute_result"
    }
   ],
   "source": [
    "theta1[0]"
   ]
  },
  {
   "cell_type": "code",
   "execution_count": 19,
   "metadata": {},
   "outputs": [
    {
     "name": "stdout",
     "output_type": "stream",
     "text": [
      "[-0.76100352 -1.21244498 -0.10187131 -2.36850085 -1.05778129 -2.20823629\n",
      "  0.56383834  1.21105294  2.21030997  0.44456156 -1.18244872  1.04289112\n",
      " -1.60558756  1.30419943  1.37175046  1.74825095 -0.23365648 -1.52014483\n",
      "  1.15324176  0.10368082 -0.37207719 -0.61530019 -0.1256836  -2.27193038\n",
      " -0.71836208 -1.29690315]\n"
     ]
    }
   ],
   "source": [
    "print(theta2[0])"
   ]
  },
  {
   "cell_type": "code",
   "execution_count": 23,
   "metadata": {},
   "outputs": [
    {
     "name": "stdout",
     "output_type": "stream",
     "text": [
      "(25, 401)\n",
      "(10, 26)\n",
      "<class 'numpy.ndarray'>\n"
     ]
    }
   ],
   "source": [
    "print(theta1.shape)\n",
    "print(theta2.shape)\n",
    "print(type(theta1))"
   ]
  },
  {
   "cell_type": "code",
   "execution_count": 24,
   "metadata": {},
   "outputs": [],
   "source": [
    "m,n = X.shape"
   ]
  },
  {
   "cell_type": "code",
   "execution_count": 34,
   "metadata": {},
   "outputs": [],
   "source": [
    "def hypothesis(z):\n",
    "    hx = 1/(1+np.exp(-z))\n",
    "    return(hx)"
   ]
  },
  {
   "cell_type": "code",
   "execution_count": 100,
   "metadata": {},
   "outputs": [
    {
     "name": "stdout",
     "output_type": "stream",
     "text": [
      "5000\n"
     ]
    }
   ],
   "source": [
    "y = np.where(y==10,0,y)\n",
    "predict = []\n",
    "for i in range(m):\n",
    "    a1 = X[i,:].reshape((n,1))\n",
    "    \n",
    "    z2 = theta1.dot(a1 )  #(25x401)(401x1)=(25x1)\n",
    "    a2 = hypothesis(z2)\n",
    "    a2 = np.vstack((np.ones(1),a2))  #(26x1)\n",
    "    z3 = theta2.dot(a2)   #(10x26)(26x1)=(10x1)\n",
    "    a3 = hypothesis(z3)\n",
    "    a3list = list(a3)\n",
    "    predict.append((a3list.index(max(a3))+1)%10)\n",
    "print(len(predict))"
   ]
  },
  {
   "cell_type": "code",
   "execution_count": 101,
   "metadata": {},
   "outputs": [
    {
     "data": {
      "text/plain": [
       "97.52"
      ]
     },
     "execution_count": 101,
     "metadata": {},
     "output_type": "execute_result"
    }
   ],
   "source": [
    "predict = np.array(predict).reshape((m,1))\n",
    "accuracy = np.mean(predict==y)*100\n",
    "accuracy"
   ]
  },
  {
   "cell_type": "code",
   "execution_count": 98,
   "metadata": {},
   "outputs": [
    {
     "data": {
      "text/plain": [
       "array([9])"
      ]
     },
     "execution_count": 98,
     "metadata": {},
     "output_type": "execute_result"
    }
   ],
   "source": [
    "predict[4606]"
   ]
  },
  {
   "cell_type": "code",
   "execution_count": 99,
   "metadata": {},
   "outputs": [
    {
     "data": {
      "text/plain": [
       "array([9], dtype=uint8)"
      ]
     },
     "execution_count": 99,
     "metadata": {},
     "output_type": "execute_result"
    }
   ],
   "source": [
    "y[4606]"
   ]
  },
  {
   "cell_type": "code",
   "execution_count": 102,
   "metadata": {},
   "outputs": [
    {
     "name": "stdout",
     "output_type": "stream",
     "text": [
      "Label:  [8]\n"
     ]
    },
    {
     "data": {
      "text/plain": [
       "<matplotlib.image.AxesImage at 0x22a5d04a2c8>"
      ]
     },
     "execution_count": 102,
     "metadata": {},
     "output_type": "execute_result"
    },
    {
     "data": {
      "image/png": "[encoded data removed]",
      "text/plain": [
       "<Figure size 432x288 with 1 Axes>"
      ]
     },
     "metadata": {
      "needs_background": "light"
     },
     "output_type": "display_data"
    }
   ],
   "source": [
    "print(\"Label: \",predict[4008])\n",
    "plt.imshow(X[4008,1:].reshape(20,20,order='F'),cmap = 'gist_gray')"
   ]
  },
  {
   "cell_type": "code",
   "execution_count": null,
   "metadata": {},
   "outputs": [],
   "source": []
  }
 ],
 "metadata": {
  "kernelspec": {
   "display_name": "Python 3",
   "language": "python",
   "name": "python3"
  },
  "language_info": {
   "codemirror_mode": {
    "name": "ipython",
    "version": 3
   },
   "file_extension": ".py",
   "mimetype": "text/x-python",
   "name": "python",
   "nbconvert_exporter": "python",
   "pygments_lexer": "ipython3",
   "version": "3.7.6"
  }
 },
 "nbformat": 4,
 "nbformat_minor": 4
}
