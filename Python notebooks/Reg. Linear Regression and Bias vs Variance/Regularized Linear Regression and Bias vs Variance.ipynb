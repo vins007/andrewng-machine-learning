{
 "cells": [
  {
   "cell_type": "code",
   "execution_count": 1,
   "metadata": {},
   "outputs": [],
   "source": [
    "import numpy as np\n",
    "import pandas as pd\n",
    "import matplotlib.pyplot as plt\n",
    "import os \n",
    "from scipy.io import loadmat\n",
    "from scipy import optimize as opt"
   ]
  },
  {
   "cell_type": "code",
   "execution_count": 2,
   "metadata": {},
   "outputs": [
    {
     "data": {
      "text/plain": [
       "['.ipynb_checkpoints',\n",
       " 'ex5data1.mat',\n",
       " 'Regularized Linear Regression and Bias vs Variance.ipynb']"
      ]
     },
     "execution_count": 2,
     "metadata": {},
     "output_type": "execute_result"
    }
   ],
   "source": [
    "os.listdir()"
   ]
  },
  {
   "cell_type": "markdown",
   "metadata": {},
   "source": [
    "# Loading data"
   ]
  },
  {
   "cell_type": "code",
   "execution_count": 3,
   "metadata": {},
   "outputs": [],
   "source": [
    "data = loadmat('ex5data1.mat')"
   ]
  },
  {
   "cell_type": "code",
   "execution_count": 4,
   "metadata": {},
   "outputs": [
    {
     "data": {
      "text/plain": [
       "dict"
      ]
     },
     "execution_count": 4,
     "metadata": {},
     "output_type": "execute_result"
    }
   ],
   "source": [
    "type(data)"
   ]
  },
  {
   "cell_type": "code",
   "execution_count": 5,
   "metadata": {},
   "outputs": [
    {
     "data": {
      "text/plain": [
       "dict_keys(['__header__', '__version__', '__globals__', 'X', 'y', 'Xtest', 'ytest', 'Xval', 'yval'])"
      ]
     },
     "execution_count": 5,
     "metadata": {},
     "output_type": "execute_result"
    }
   ],
   "source": [
    "data.keys()"
   ]
  },
  {
   "cell_type": "code",
   "execution_count": 6,
   "metadata": {},
   "outputs": [],
   "source": [
    "X = data['X']\n",
    "y = data['y']\n",
    "\n",
    "Xtrain = data['X']\n",
    "ytrain = data['y']\n",
    "\n",
    "Xtest = data['Xtest']\n",
    "ytest = data['ytest']\n",
    "\n",
    "Xval = data['Xval']\n",
    "yval = data['yval']\n"
   ]
  },
  {
   "cell_type": "code",
   "execution_count": 7,
   "metadata": {},
   "outputs": [
    {
     "name": "stdout",
     "output_type": "stream",
     "text": [
      "Size of training data:  (12, 1)\n",
      "Size of testing data:  (21, 1)\n",
      "Size of validation data:  (21, 1)\n"
     ]
    }
   ],
   "source": [
    "print(\"Size of training data: \",Xtrain.shape)\n",
    "print(\"Size of testing data: \",Xtest.shape)\n",
    "print(\"Size of validation data: \",Xval.shape)\n"
   ]
  },
  {
   "cell_type": "markdown",
   "metadata": {},
   "source": [
    "# Vizualizing data"
   ]
  },
  {
   "cell_type": "code",
   "execution_count": 8,
   "metadata": {},
   "outputs": [
    {
     "data": {
      "text/plain": [
       "Text(0, 0.5, 'water flowing')"
      ]
     },
     "execution_count": 8,
     "metadata": {},
     "output_type": "execute_result"
    },
    {
     "data": {
      "image/png": "[encoded data removed]",
      "text/plain": [
       "<Figure size 432x288 with 1 Axes>"
      ]
     },
     "metadata": {
      "needs_background": "light"
     },
     "output_type": "display_data"
    }
   ],
   "source": [
    "plt.scatter(Xtrain,ytrain,c='r',marker='+')\n",
    "plt.xlabel('water level')\n",
    "plt.ylabel('water flowing')\n"
   ]
  },
  {
   "cell_type": "code",
   "execution_count": null,
   "metadata": {},
   "outputs": [],
   "source": []
  },
  {
   "cell_type": "markdown",
   "metadata": {},
   "source": [
    "# Regularized Cost Function"
   ]
  },
  {
   "cell_type": "code",
   "execution_count": null,
   "metadata": {},
   "outputs": [],
   "source": []
  },
  {
   "cell_type": "code",
   "execution_count": 9,
   "metadata": {},
   "outputs": [],
   "source": [
    "Xtrain = np.c_[np.ones((len(Xtrain),1)),Xtrain]\n",
    "m,n = Xtrain.shape"
   ]
  },
  {
   "cell_type": "code",
   "execution_count": 10,
   "metadata": {},
   "outputs": [],
   "source": [
    "def hypothesis(x,theta):\n",
    "    hx = np.dot(x,theta)\n",
    "    return hx"
   ]
  },
  {
   "cell_type": "code",
   "execution_count": 11,
   "metadata": {},
   "outputs": [
    {
     "name": "stdout",
     "output_type": "stream",
     "text": [
      "303.9931922202643\n"
     ]
    }
   ],
   "source": [
    "def costfunction(theta,x,y,lambd):\n",
    "    m , n = x.shape\n",
    "    theta=theta.reshape((n,1))\n",
    "    hx = hypothesis(x,theta)\n",
    "    j = 1/(2*m) * (np.sum((hx-y)**2)) + (lambd/(2*m)*np.sum(theta[1:]**2))\n",
    "    return j\n",
    "print(costfunction(np.array([1,1]),Xtrain,ytrain,1))\n"
   ]
  },
  {
   "cell_type": "markdown",
   "metadata": {},
   "source": [
    "# Regularized linear regressoin gradient"
   ]
  },
  {
   "cell_type": "code",
   "execution_count": 12,
   "metadata": {},
   "outputs": [
    {
     "name": "stdout",
     "output_type": "stream",
     "text": [
      "[-15.30301567 598.25074417]\n"
     ]
    }
   ],
   "source": [
    "def gradient(theta,x,y,lambd):\n",
    "    m,n = x.shape\n",
    "    theta=theta.reshape((n,1))\n",
    "    grad = np.zeros((n,1))\n",
    "    hx = hypothesis(x,theta)\n",
    "    grad = (1/m)* (np.dot(x.T,hx-y))\n",
    "    grad[1:] = grad[1:] + (lambd/m)*theta[1:]\n",
    "\n",
    "    return grad.flatten()\n",
    "\n",
    "print(gradient(np.array([1,1]).reshape((2,1)),Xtrain,ytrain,1))\n"
   ]
  },
  {
   "cell_type": "code",
   "execution_count": 13,
   "metadata": {},
   "outputs": [],
   "source": [
    "initial_theta = np.zeros(n)\n",
    "lambd = 0"
   ]
  },
  {
   "cell_type": "code",
   "execution_count": 14,
   "metadata": {},
   "outputs": [
    {
     "name": "stdout",
     "output_type": "stream",
     "text": [
      "theta:  [13.08790351  0.36777923]\n",
      "      fun: 22.373906495108915\n",
      " hess_inv: array([[1.03142187, 0.00617881],\n",
      "       [0.00617881, 0.001215  ]])\n",
      "      jac: array([ 3.70074342e-15, -1.58013348e-14])\n",
      "  message: 'Optimization terminated successfully.'\n",
      "     nfev: 5\n",
      "      nit: 3\n",
      "     njev: 5\n",
      "   status: 0\n",
      "  success: True\n",
      "        x: array([13.08790351,  0.36777923])\n"
     ]
    }
   ],
   "source": [
    "theta  =  opt.fmin_tnc(func=costfunction,fprime=gradient,x0=initial_theta,args=(Xtrain,ytrain,lambd))\n",
    "res = opt.minimize(costfunction,initial_theta.reshape((2,1)),args=(Xtrain,ytrain,lambd),method=None,jac=gradient,options={'maxiter':5000})\n",
    "print(\"theta: \",theta[0])\n",
    "print(res)"
   ]
  },
  {
   "cell_type": "markdown",
   "metadata": {},
   "source": [
    "# Predict"
   ]
  },
  {
   "cell_type": "code",
   "execution_count": 15,
   "metadata": {},
   "outputs": [],
   "source": [
    "y_predict = hypothesis(Xtrain,theta[0].reshape((n,1)))"
   ]
  },
  {
   "cell_type": "code",
   "execution_count": 16,
   "metadata": {},
   "outputs": [
    {
     "data": {
      "text/plain": [
       "<matplotlib.legend.Legend at 0x172006e41c8>"
      ]
     },
     "execution_count": 16,
     "metadata": {},
     "output_type": "execute_result"
    },
    {
     "data": {
      "image/png": "[encoded data removed]",
      "text/plain": [
       "<Figure size 432x288 with 1 Axes>"
      ]
     },
     "metadata": {
      "needs_background": "light"
     },
     "output_type": "display_data"
    }
   ],
   "source": [
    "plt.scatter(Xtrain[:,1],ytrain,c='b',marker='+')\n",
    "plt.plot(Xtrain[:,1],y_predict,c='r')\n",
    "plt.xlabel('Change in water(x)')\n",
    "plt.ylabel('water flowing out of dam(y)')\n",
    "plt.legend(['Predicted line'])"
   ]
  },
  {
   "cell_type": "code",
   "execution_count": 17,
   "metadata": {},
   "outputs": [
    {
     "data": {
      "text/plain": [
       "<matplotlib.legend.Legend at 0x17200748ac8>"
      ]
     },
     "execution_count": 17,
     "metadata": {},
     "output_type": "execute_result"
    },
    {
     "data": {
      "image/png": "[encoded data removed]",
      "text/plain": [
       "<Figure size 432x288 with 1 Axes>"
      ]
     },
     "metadata": {
      "needs_background": "light"
     },
     "output_type": "display_data"
    }
   ],
   "source": [
    "plt.plot(np.linspace(-50,40), (res.x[0]+ (res.x[1]*np.linspace(-50,40))), label='Scipy optimize')\n",
    "plt.scatter(Xtrain[:,1], ytrain, s=50, c='r', marker='x', linewidths=1)\n",
    "plt.xlabel('Change in water level (x)')\n",
    "plt.ylabel('Water flowing out of the dam (y)')\n",
    "plt.legend()"
   ]
  },
  {
   "cell_type": "markdown",
   "metadata": {},
   "source": [
    "# Learning Curves"
   ]
  },
  {
   "cell_type": "code",
   "execution_count": null,
   "metadata": {},
   "outputs": [],
   "source": [
    "\n"
   ]
  },
  {
   "cell_type": "code",
   "execution_count": 18,
   "metadata": {},
   "outputs": [],
   "source": [
    "def learningcurve(theta,x,y):\n",
    "    m,n = x.shape\n",
    "    hx = hypothesis(x,theta)\n",
    "    error = 1/(2*m)*np.sum((hx-y)**2)\n",
    "    return error"
   ]
  },
  {
   "cell_type": "code",
   "execution_count": 19,
   "metadata": {
    "scrolled": true
   },
   "outputs": [
    {
     "name": "stdout",
     "output_type": "stream",
     "text": [
      "Error train:  [1.0176953929799205e-18, 3.4671308818173964e-09, 3.286595045501273, 2.8426776893999373, 13.15404880911492, 19.443962512495464, 20.098521655088884, 18.17285869520002, 22.609405424954723, 23.26146159261182, 24.317249588044156]\n",
      "[205.1210957127572, 110.30264077542824, 45.01023135119472, 48.36891025069481, 35.86516477234073, 33.829961521802765, 31.97098583107468, 30.862446314440877, 31.135997907318835, 28.936207468550815, 29.551431620665028]\n",
      "11\n"
     ]
    }
   ],
   "source": [
    "error_train = []\n",
    "error_val = []\n",
    "m_size = []\n",
    "lambd=0\n",
    "for i in range(1,12):\n",
    "    m_size.append(i)\n",
    "    theta  =  opt.fmin_tnc(func=costfunction,fprime=gradient,x0=initial_theta,args=(Xtrain[:i,:],ytrain[:i,:],lambd))\n",
    "    t_theta = theta[0].reshape((n,1))\n",
    "    error_train.append(learningcurve(t_theta,Xtrain[:i,:],ytrain[:i]))\n",
    "    error_val.append(learningcurve(t_theta,np.c_[np.ones_like(yval),Xval],yval))\n",
    "print(\"Error train: \",error_train)\n",
    "print(error_val)\n",
    "print(len(m_size))"
   ]
  },
  {
   "cell_type": "code",
   "execution_count": 20,
   "metadata": {},
   "outputs": [
    {
     "data": {
      "text/plain": [
       "<matplotlib.legend.Legend at 0x172007a3dc8>"
      ]
     },
     "execution_count": 20,
     "metadata": {},
     "output_type": "execute_result"
    },
    {
     "data": {
      "image/png": "[encoded data removed]",
      "text/plain": [
       "<Figure size 432x288 with 1 Axes>"
      ]
     },
     "metadata": {
      "needs_background": "light"
     },
     "output_type": "display_data"
    }
   ],
   "source": [
    "plt.plot(m_size,error_train,c='b',label='Train')\n",
    "plt.plot(m_size,error_val,c='r',label='Cross validation')\n",
    "plt.title(\"High Bias Problem\")\n",
    "plt.legend()"
   ]
  },
  {
   "cell_type": "markdown",
   "metadata": {},
   "source": [
    "# Polynomial Regression"
   ]
  },
  {
   "cell_type": "code",
   "execution_count": 21,
   "metadata": {},
   "outputs": [],
   "source": [
    "def polynomial(X,p):\n",
    "    X_poly = np.zeros((len(X),p))\n",
    "    X = X.flatten()\n",
    "    for i in range(1,p+1):\n",
    "        X_poly[:,i-1] = X**i\n",
    "    return X_poly\n",
    "    "
   ]
  },
  {
   "cell_type": "code",
   "execution_count": 22,
   "metadata": {},
   "outputs": [],
   "source": [
    "def polyfeatures(x,d):\n",
    "    m,n = x.shape\n",
    "    xpoly = np.zeros((m,d))\n",
    "    for i in range(m):\n",
    "        for j in range(d):\n",
    "            xpoly[i][j] = x[i]**(j+1)\n",
    "    return xpoly"
   ]
  },
  {
   "cell_type": "code",
   "execution_count": 23,
   "metadata": {
    "scrolled": true
   },
   "outputs": [],
   "source": [
    "degree = 8\n",
    "Xpoly = polyfeatures(X,degree)\n"
   ]
  },
  {
   "cell_type": "markdown",
   "metadata": {},
   "source": [
    "# Mean Normalization"
   ]
  },
  {
   "cell_type": "code",
   "execution_count": 24,
   "metadata": {
    "scrolled": true
   },
   "outputs": [],
   "source": [
    "def meanNormalization(x):\n",
    "    mu = np.mean(x,axis=0)\n",
    "    sigma = np.std(x,axis=0,ddof=1)\n",
    "    X_norm = (x-mu)/sigma\n",
    "    return X_norm,mu,sigma"
   ]
  },
  {
   "cell_type": "code",
   "execution_count": 25,
   "metadata": {},
   "outputs": [
    {
     "name": "stdout",
     "output_type": "stream",
     "text": [
      "[-0.36214078 -0.75508669  0.18222588 -0.70618991  0.30661792 -0.59087767\n",
      "  0.3445158  -0.50848117]\n"
     ]
    }
   ],
   "source": [
    "X_Norm,mu,sigma = meanNormalization(Xpoly)\n",
    "\n",
    "print(X_Norm[0])"
   ]
  },
  {
   "cell_type": "code",
   "execution_count": 26,
   "metadata": {},
   "outputs": [
    {
     "name": "stdout",
     "output_type": "stream",
     "text": [
      "(21, 9)\n"
     ]
    }
   ],
   "source": [
    "Xpoly_val = polyfeatures(Xval,degree)\n",
    "Xpoly_val = np.divide(Xpoly_val-mu,sigma)\n",
    "Xpoly_val = np.c_[np.ones_like(yval),Xpoly_val]\n",
    "print(Xpoly_val.shape)"
   ]
  },
  {
   "cell_type": "markdown",
   "metadata": {},
   "source": [
    "# Learning polynomial regression"
   ]
  },
  {
   "cell_type": "code",
   "execution_count": 27,
   "metadata": {},
   "outputs": [
    {
     "name": "stdout",
     "output_type": "stream",
     "text": [
      "(12, 9)\n",
      "[ 1.         -0.36214078 -0.75508669  0.18222588 -0.70618991  0.30661792\n",
      " -0.59087767  0.3445158  -0.50848117]\n"
     ]
    }
   ],
   "source": [
    "X_Norm = np.c_[np.ones((m,1)),X_Norm] \n",
    "m,n = X_Norm.shape\n",
    "print(X_Norm.shape)\n",
    "print(X_Norm[0])"
   ]
  },
  {
   "cell_type": "code",
   "execution_count": 28,
   "metadata": {},
   "outputs": [],
   "source": [
    "initial_theta = np.zeros(n)\n",
    "lambd=1"
   ]
  },
  {
   "cell_type": "code",
   "execution_count": 29,
   "metadata": {},
   "outputs": [
    {
     "name": "stdout",
     "output_type": "stream",
     "text": [
      "[[11.21759469]\n",
      " [ 8.58517596]\n",
      " [ 5.212679  ]\n",
      " [ 3.59110948]\n",
      " [ 2.28293671]\n",
      " [ 1.76029575]\n",
      " [ 1.06813517]\n",
      " [ 1.10763142]\n",
      " [ 0.3939973 ]]\n"
     ]
    }
   ],
   "source": [
    "theta_t = opt.fmin_tnc(func=costfunction,fprime=gradient,x0=initial_theta,args=(X_Norm,y,lambd))\n",
    "theta = theta_t[0].reshape((n,1))\n",
    "print(theta)"
   ]
  },
  {
   "cell_type": "code",
   "execution_count": 30,
   "metadata": {},
   "outputs": [
    {
     "name": "stdout",
     "output_type": "stream",
     "text": [
      "Predicted values using polynomial regression: \n",
      " [[ 3.3045914 ]\n",
      " [ 2.49648562]\n",
      " [33.62009189]\n",
      " [35.9101181 ]\n",
      " [ 3.27021266]\n",
      " [ 4.34437355]\n",
      " [12.7193927 ]\n",
      " [ 2.53922733]\n",
      " [ 6.83406181]\n",
      " [ 3.00617369]\n",
      " [ 8.78722038]\n",
      " [17.77918722]]\n",
      "\n",
      "Original values of y: \n",
      " [[ 2.13431051]\n",
      " [ 1.17325668]\n",
      " [34.35910918]\n",
      " [36.83795516]\n",
      " [ 2.80896507]\n",
      " [ 2.12107248]\n",
      " [14.71026831]\n",
      " [ 2.61418439]\n",
      " [ 3.74017167]\n",
      " [ 3.73169131]\n",
      " [ 7.62765885]\n",
      " [22.7524283 ]]\n"
     ]
    }
   ],
   "source": [
    "y_predict = hypothesis(X_Norm,theta)\n",
    "print(\"Predicted values using polynomial regression: \\n\",y_predict)\n",
    "print(\"\\nOriginal values of y: \\n\",y)"
   ]
  },
  {
   "cell_type": "code",
   "execution_count": 31,
   "metadata": {
    "scrolled": true
   },
   "outputs": [],
   "source": [
    "def plotfit(min_x, max_x, mu, sigma, theta, d):\n",
    "    x = np.arange(min_x - 15, max_x + 25, 0.05).reshape((-1,1))\n",
    "    print(x.shape)\n",
    "    X_poly = polyfeatures(x,d)\n",
    "    X_poly = np.divide(X_poly - mu,sigma)\n",
    "    X_poly = np.hstack((np.ones(len(X_poly)).reshape((-1,1)),X_poly))\n",
    "    print(X_poly.shape)\n",
    "    plt.plot(x,np.dot(X_poly,theta),'b',linewidth=2)\n",
    "    plt.xlabel('Change in water(x)')\n",
    "    plt.ylabel('water flowing out of dam(y)')\n",
    "    plt.legend(['Predicted line'])"
   ]
  },
  {
   "cell_type": "code",
   "execution_count": 32,
   "metadata": {},
   "outputs": [
    {
     "name": "stdout",
     "output_type": "stream",
     "text": [
      "(2512, 1)\n",
      "(2512, 9)\n"
     ]
    },
    {
     "data": {
      "image/png": "[encoded data removed]",
      "text/plain": [
       "<Figure size 432x288 with 1 Axes>"
      ]
     },
     "metadata": {
      "needs_background": "light"
     },
     "output_type": "display_data"
    }
   ],
   "source": [
    "\n",
    "plt.scatter(X,y,c='r',marker='o')\n",
    "plotfit(np.min(X), np.max(X), mu, sigma,theta, degree)"
   ]
  },
  {
   "cell_type": "markdown",
   "metadata": {},
   "source": []
  },
  {
   "cell_type": "markdown",
   "metadata": {},
   "source": [
    "# Learning curve for high polynomial regression"
   ]
  },
  {
   "cell_type": "code",
   "execution_count": 33,
   "metadata": {},
   "outputs": [
    {
     "name": "stdout",
     "output_type": "stream",
     "text": [
      "Error train:  [2.2708705639924927e-16, 0.04577230386214513, 2.9113748267775197, 1.4994229894027813, 1.1991828999932237, 0.924510713925768, 1.5408976770604366, 1.422965557422377, 1.553733370826046, 1.4415765154581226, 1.3081364557336748]\n",
      "[138.84677798724258, 143.52287165279466, 5.534710738204612, 6.609890601183352, 6.634074764214707, 8.291988317661373, 5.737172960463087, 5.516472011873907, 6.2397365967010865, 5.983019559319132, 6.043642522018098]\n",
      "11\n"
     ]
    }
   ],
   "source": [
    "error_train = []\n",
    "error_val = []\n",
    "m_size = []\n",
    "lambd=1\n",
    "for i in range(1,12):\n",
    "    m_size.append(i)\n",
    "    theta  =  opt.fmin_tnc(func=costfunction,fprime=gradient,x0=initial_theta,args=(X_Norm[:i,:],ytrain[:i,:],lambd))\n",
    "    t_theta = theta[0].reshape((n,1))\n",
    "    error_train.append(learningcurve(t_theta,X_Norm[:i,:],ytrain[:i]))\n",
    "    error_val.append(learningcurve(t_theta,Xpoly_val,yval))\n",
    "print(\"Error train: \",error_train)\n",
    "print(error_val)\n",
    "print(len(m_size))"
   ]
  },
  {
   "cell_type": "code",
   "execution_count": 34,
   "metadata": {
    "scrolled": true
   },
   "outputs": [
    {
     "data": {
      "text/plain": [
       "<matplotlib.legend.Legend at 0x1720186c088>"
      ]
     },
     "execution_count": 34,
     "metadata": {},
     "output_type": "execute_result"
    },
    {
     "data": {
      "image/png": "[encoded data removed]",
      "text/plain": [
       "<Figure size 432x288 with 1 Axes>"
      ]
     },
     "metadata": {
      "needs_background": "light"
     },
     "output_type": "display_data"
    }
   ],
   "source": [
    "plt.plot(m_size,error_train,c='b',label='Train')\n",
    "plt.plot(m_size,error_val,c='r',label='Cross validation')\n",
    "plt.title(\"High Variance Problem\")\n",
    "plt.legend()"
   ]
  },
  {
   "cell_type": "markdown",
   "metadata": {},
   "source": [
    "# Learning curve for best lambda value"
   ]
  },
  {
   "cell_type": "code",
   "execution_count": 35,
   "metadata": {},
   "outputs": [
    {
     "name": "stdout",
     "output_type": "stream",
     "text": [
      "Error train:  [0.04265407398144096, 0.111777376640053, 0.17101545140801933, 0.2214627589876991, 0.2818631541326494, 0.4593174290809761, 0.6997112233017578, 0.9217816052076359, 2.076199311156103, 4.901373131303746, 16.092272723410886]\n",
      "[20.778834518781597, 9.810009618579752, 16.395267330150467, 16.94421965907687, 12.828892521359995, 7.587025795816343, 5.386171390741566, 4.636760390994669, 4.2606029121606905, 3.822926887662373, 9.94555423485977]\n",
      "11\n"
     ]
    }
   ],
   "source": [
    "error_train = []\n",
    "error_val = []\n",
    "lambda_vec = [0,0.001,0.003 ,0.01, 0.03, 0.1,0.2, 0.3, 1, 3, 10]\n",
    "for i in range(len(lambda_vec)):\n",
    "    lambd = lambda_vec[i]\n",
    "    theta  =  opt.fmin_tnc(func=costfunction,fprime=gradient,x0=initial_theta,args=(X_Norm,ytrain,lambd))\n",
    "    t_theta = theta[0].reshape((n,1))\n",
    "    error_train.append(learningcurve(t_theta,X_Norm,ytrain))\n",
    "    error_val.append(learningcurve(t_theta,Xpoly_val,yval))\n",
    "print(\"Error train: \",error_train)\n",
    "print(error_val)\n",
    "print(len(m_size))"
   ]
  },
  {
   "cell_type": "code",
   "execution_count": 36,
   "metadata": {},
   "outputs": [
    {
     "data": {
      "text/plain": [
       "<matplotlib.legend.Legend at 0x172018e6f88>"
      ]
     },
     "execution_count": 36,
     "metadata": {},
     "output_type": "execute_result"
    },
    {
     "data": {
      "image/png": "[encoded data removed]",
      "text/plain": [
       "<Figure size 432x288 with 1 Axes>"
      ]
     },
     "metadata": {
      "needs_background": "light"
     },
     "output_type": "display_data"
    }
   ],
   "source": [
    "plt.plot(lambda_vec,error_train,c='b',label='Train')\n",
    "plt.plot(lambda_vec,error_val,c='r',label='Cross validation')\n",
    "plt.xlabel('lambda values')\n",
    "plt.ylabel('error')\n",
    "plt.title(\"High Variance Problem\")\n",
    "plt.legend()"
   ]
  },
  {
   "cell_type": "markdown",
   "metadata": {},
   "source": [
    "# Test set Error"
   ]
  },
  {
   "cell_type": "code",
   "execution_count": 37,
   "metadata": {},
   "outputs": [
    {
     "name": "stdout",
     "output_type": "stream",
     "text": [
      "(21, 9)\n"
     ]
    }
   ],
   "source": [
    "Xpoly_test = polyfeatures(Xtest,degree)\n",
    "Xpoly_test = np.divide(Xpoly_test-mu,sigma)\n",
    "Xpoly_test = np.c_[np.ones_like(ytest),Xpoly_test]\n",
    "print(Xpoly_test.shape)"
   ]
  },
  {
   "cell_type": "code",
   "execution_count": 38,
   "metadata": {},
   "outputs": [],
   "source": [
    "lambd = 3\n"
   ]
  },
  {
   "cell_type": "code",
   "execution_count": 39,
   "metadata": {},
   "outputs": [
    {
     "name": "stdout",
     "output_type": "stream",
     "text": [
      "3908.1782625373867\n"
     ]
    }
   ],
   "source": [
    "theta = opt.fmin_tnc(func=costfunction,fprime=gradient,x0=initial_theta,args=(Xpoly_test,ytest,lambd))\n",
    "theta_t = theta[0]\n",
    "test_set_error = learningcurve(theta_t,Xpoly_test,ytest)\n",
    "print(test_set_error)"
   ]
  },
  {
   "cell_type": "code",
   "execution_count": 41,
   "metadata": {},
   "outputs": [
    {
     "name": "stdout",
     "output_type": "stream",
     "text": [
      "Predicted values of y: \n",
      " [ 4.03464929  3.32001868  2.60232956  7.65244624 16.2936364   2.94935051\n",
      "  6.46065969 26.58030179 12.51427969 53.20139594  8.5346891   6.69042522\n",
      " 28.71944743 38.53406736  9.1818644  23.04435834  5.34451264  7.21106092\n",
      "  4.73160844  3.66658056 11.17003117]\n",
      "\n",
      " original values of y:  [[ 3.31688953]\n",
      " [ 5.39768952]\n",
      " [ 0.13042984]\n",
      " [ 6.1925982 ]\n",
      " [17.08848712]\n",
      " [ 0.79950805]\n",
      " [ 2.82479183]\n",
      " [28.62123334]\n",
      " [17.04639081]\n",
      " [55.38437334]\n",
      " [ 4.07936733]\n",
      " [ 8.27039793]\n",
      " [31.32355102]\n",
      " [39.15906103]\n",
      " [ 8.08727989]\n",
      " [24.11134389]\n",
      " [ 2.4773548 ]\n",
      " [ 6.56606472]\n",
      " [ 6.0380888 ]\n",
      " [ 4.69273956]\n",
      " [10.83004606]]\n"
     ]
    }
   ],
   "source": [
    "Y_test_predict = hypothesis(Xpoly_test,theta_t.reshape((9,)))\n",
    "print(\"Predicted values of y: \\n\",Y_test_predict)\n",
    "print(\"\\n original values of y: \",ytest)"
   ]
  },
  {
   "cell_type": "code",
   "execution_count": 42,
   "metadata": {},
   "outputs": [
    {
     "name": "stdout",
     "output_type": "stream",
     "text": [
      "(2804, 1)\n",
      "(2804, 9)\n"
     ]
    },
    {
     "data": {
      "image/png": "[encoded data removed]",
      "text/plain": [
       "<Figure size 432x288 with 1 Axes>"
      ]
     },
     "metadata": {
      "needs_background": "light"
     },
     "output_type": "display_data"
    }
   ],
   "source": [
    "plt.scatter(X,y,c='r',marker='o')\n",
    "plotfit(np.min(Xtest), np.max(Xtest), mu, sigma,theta_t.reshape((9,1)), degree)"
   ]
  },
  {
   "cell_type": "code",
   "execution_count": null,
   "metadata": {},
   "outputs": [],
   "source": []
  }
 ],
 "metadata": {
  "kernelspec": {
   "display_name": "Python 3",
   "language": "python",
   "name": "python3"
  },
  "language_info": {
   "codemirror_mode": {
    "name": "ipython",
    "version": 3
   },
   "file_extension": ".py",
   "mimetype": "text/x-python",
   "name": "python",
   "nbconvert_exporter": "python",
   "pygments_lexer": "ipython3",
   "version": "3.7.6"
  }
 },
 "nbformat": 4,
 "nbformat_minor": 4
}
